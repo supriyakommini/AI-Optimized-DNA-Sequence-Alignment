{
 "cells": [
  {
   "cell_type": "code",
   "execution_count": 2,
   "metadata": {},
   "outputs": [
    {
     "name": "stderr",
     "output_type": "stream",
     "text": [
      "2024-09-29 11:45:36.774535: I tensorflow/core/util/port.cc:113] oneDNN custom operations are on. You may see slightly different numerical results due to floating-point round-off errors from different computation orders. To turn them off, set the environment variable `TF_ENABLE_ONEDNN_OPTS=0`.\n",
      "2024-09-29 11:45:37.334681: I tensorflow/core/platform/cpu_feature_guard.cc:210] This TensorFlow binary is optimized to use available CPU instructions in performance-critical operations.\n",
      "To enable the following instructions: AVX2 AVX512F AVX512_VNNI FMA, in other operations, rebuild TensorFlow with the appropriate compiler flags.\n",
      "2024-09-29 11:45:39.139089: W tensorflow/compiler/tf2tensorrt/utils/py_utils.cc:38] TF-TRT Warning: Could not find TensorRT\n",
      "2024-09-29 11:45:42.040117: I external/local_xla/xla/stream_executor/cuda/cuda_executor.cc:984] could not open file to read NUMA node: /sys/bus/pci/devices/0000:01:00.0/numa_node\n",
      "Your kernel may have been built without NUMA support.\n",
      "2024-09-29 11:45:42.234619: I external/local_xla/xla/stream_executor/cuda/cuda_executor.cc:984] could not open file to read NUMA node: /sys/bus/pci/devices/0000:01:00.0/numa_node\n",
      "Your kernel may have been built without NUMA support.\n",
      "2024-09-29 11:45:42.234724: I external/local_xla/xla/stream_executor/cuda/cuda_executor.cc:984] could not open file to read NUMA node: /sys/bus/pci/devices/0000:01:00.0/numa_node\n",
      "Your kernel may have been built without NUMA support.\n"
     ]
    },
    {
     "name": "stdout",
     "output_type": "stream",
     "text": [
      "Device mapping:\n",
      "/job:localhost/replica:0/task:0/device:GPU:0 -> device: 0, name: NVIDIA GeForce RTX 3060 Laptop GPU, pci bus id: 0000:01:00.0, compute capability: 8.6\n",
      "\n"
     ]
    },
    {
     "name": "stderr",
     "output_type": "stream",
     "text": [
      "2024-09-29 11:45:42.468824: I external/local_xla/xla/stream_executor/cuda/cuda_executor.cc:984] could not open file to read NUMA node: /sys/bus/pci/devices/0000:01:00.0/numa_node\n",
      "Your kernel may have been built without NUMA support.\n",
      "2024-09-29 11:45:42.468960: I external/local_xla/xla/stream_executor/cuda/cuda_executor.cc:984] could not open file to read NUMA node: /sys/bus/pci/devices/0000:01:00.0/numa_node\n",
      "Your kernel may have been built without NUMA support.\n",
      "2024-09-29 11:45:42.468972: I tensorflow/core/common_runtime/gpu/gpu_device.cc:2019] Could not identify NUMA node of platform GPU id 0, defaulting to 0.  Your kernel may not have been built with NUMA support.\n",
      "2024-09-29 11:45:42.469013: I external/local_xla/xla/stream_executor/cuda/cuda_executor.cc:984] could not open file to read NUMA node: /sys/bus/pci/devices/0000:01:00.0/numa_node\n",
      "Your kernel may have been built without NUMA support.\n",
      "2024-09-29 11:45:42.469657: I tensorflow/core/common_runtime/gpu/gpu_device.cc:1928] Created device /job:localhost/replica:0/task:0/device:GPU:0 with 3600 MB memory:  -> device: 0, name: NVIDIA GeForce RTX 3060 Laptop GPU, pci bus id: 0000:01:00.0, compute capability: 8.6\n"
     ]
    }
   ],
   "source": [
    "import time\n",
    "import numpy as np\n",
    "from sklearn import model_selection\n",
    "import pandas as pd #import pandas\n",
    "from sklearn.neural_network import MLPClassifier\n",
    "from sklearn.model_selection import train_test_split, cross_validate\n",
    "from sklearn.preprocessing import LabelEncoder\n",
    "from sklearn.metrics import accuracy_score\n",
    "from sklearn.model_selection import cross_val_score\n",
    "from sklearn.metrics import  auc, confusion_matrix, mean_squared_error, pair_confusion_matrix\n",
    "from sklearn.metrics import  roc_auc_score, roc_curve, classification_report, log_loss\n",
    "from sklearn.metrics import make_scorer, accuracy_score, precision_score, recall_score, f1_score\n",
    "import tensorflow as tf\n",
    "\n",
    "from warnings import simplefilter\n",
    "from sklearn.model_selection import RepeatedKFold\n",
    "simplefilter(action='ignore', category=FutureWarning)\n",
    "simplefilter(action='ignore', category=Warning)\n",
    "\n",
    "sess = tf.compat.v1.Session(config=tf.compat.v1.ConfigProto(log_device_placement=True))"
   ]
  },
  {
   "cell_type": "code",
   "execution_count": 4,
   "metadata": {},
   "outputs": [],
   "source": [
    "df2 = pd.read_csv('../Datasets/RefSeq.csv')\n",
    "df = pd.read_csv('../Datasets/CompSeq.csv')\n",
    "\n",
    "X = np.array(df.drop(['class'], axis=1))\n",
    "X = X.astype('float32')\n",
    "y = np.array(df['class'])\n",
    "y = LabelEncoder().fit_transform(y)\n",
    "\n",
    "X2 = np.array(df2.drop(['class'], axis=1))\n",
    "X2 = X2.astype('float32')\n",
    "y2 = np.array(df2['class'])\n",
    "y2 = LabelEncoder().fit_transform(y2)"
   ]
  },
  {
   "cell_type": "code",
   "execution_count": 5,
   "metadata": {},
   "outputs": [
    {
     "name": "stdout",
     "output_type": "stream",
     "text": [
      "(838860, 16) (52428, 16)\n"
     ]
    }
   ],
   "source": [
    "seed = 42\n",
    "X_train, X_test2, y_train, y_test2 = train_test_split(X, y, test_size=0.2, random_state=seed)\n",
    "X_train2, X_test, y_train2, y_test = train_test_split(X2, y2, test_size=0.8, random_state=seed)\n",
    "\n",
    "print(X_test.shape,X_train.shape)"
   ]
  },
  {
   "cell_type": "code",
   "execution_count": 11,
   "metadata": {},
   "outputs": [
    {
     "name": "stdout",
     "output_type": "stream",
     "text": [
      "Cross validation score: 98.82% (+/- 0.39%)\n",
      "precision score: 98.82% (+/- 0.39%)\n",
      "recall score: 98.82% (+/- 0.39%)\n",
      "f1_score: 98.82% (+/- 0.39%)\n"
     ]
    }
   ],
   "source": [
    "model = MLPClassifier(hidden_layer_sizes=100, solver='adam', activation='relu', shuffle=True, max_iter=1000, alpha=0.001, learning_rate='adaptive', early_stopping=True)\n",
    "\n",
    "model.fit(X_train, y_train)\n",
    "cv = RepeatedKFold(n_splits=10, n_repeats=3, random_state=1)\n",
    "scoring = {'accuracy' : make_scorer(accuracy_score), 'precision' : make_scorer(precision_score, average='micro'),\n",
    "           'recall' : make_scorer(recall_score, average='micro'),  'f1_score' : make_scorer(f1_score, average='micro')}\n",
    "\n",
    "results = model_selection.cross_validate(model, X, y, cv=cv, scoring=scoring, n_jobs=-1)\n",
    "\n",
    "print(\"Cross validation score  : {0:.2%} (+/- {1:.2%})\".format(np.mean(results['test_accuracy']), np.std(results['test_accuracy'])*2))\n",
    "print(\"precision score         : {0:.2%} (+/- {1:.2%})\".format(np.mean(results['test_precision']), np.std(results['test_precision'])*2))\n",
    "print(\"recall score            : {0:.2%} (+/- {1:.2%})\".format(np.mean(results['test_recall']), np.std(results['test_recall'])*2))\n",
    "print(\"f1_score                : {0:.2%} (+/- {1:.2%})\".format(np.mean(results['test_f1_score']), np.std(results['test_f1_score'])*2))"
   ]
  },
  {
   "cell_type": "code",
   "execution_count": 24,
   "metadata": {},
   "outputs": [
    {
     "name": "stdout",
     "output_type": "stream",
     "text": [
      ">>> Metrics\n",
      "Accuracy  : 0.9942743723624919\n",
      "Recall    : 0.9942743723624919\n",
      "Precision : 0.9942743723624919\n",
      "F1 Score  : 0.9942743723624919\n",
      "MSE       : 89.39814510168561\n"
     ]
    }
   ],
   "source": [
    "y_pred = model.predict(X_test)\n",
    "predictions = [round(value) for value in y_pred]\n",
    "\n",
    "accuracy_ = accuracy_score(y_test, predictions)\n",
    "recall_= recall_score(y_test, y_pred, average='micro')\n",
    "precision_ = precision_score(y_test, y_pred, average='micro', zero_division=0)\n",
    "mse_ = mean_squared_error(y_test, y_pred)\n",
    "f1score_ = f1_score(y_test, y_pred, average='micro')\n",
    "\n",
    "print(\">>> Metrics\")\n",
    "print(\"Accuracy  :\", (accuracy_ ))\n",
    "print(\"Recall    :\", (recall_))\n",
    "print(\"Precision :\", (precision_))\n",
    "print(\"F1 Score  :\", (f1score_))\n",
    "print(\"MSE       :\", (mse_))"
   ]
  },
  {
   "cell_type": "code",
   "execution_count": 29,
   "metadata": {},
   "outputs": [
    {
     "name": "stdout",
     "output_type": "stream",
     "text": [
      "Metrics stored into MLP_Metrics.csv\n"
     ]
    }
   ],
   "source": [
    "metrics_data = {\n",
    "    'Metric': ['Accuracy', 'Precision', 'Recall', 'F1 Score'],\n",
    "    'Value': [accuracy_, precision_, recall_, f1score_]\n",
    "}\n",
    "metrics_df = pd.DataFrame(metrics_data)\n",
    "metrics_df.to_csv('../Metrics_Files/MLP_Metrics.csv', index=False)\n",
    "print(\"Metrics stored into MLP_Metrics.csv\")"
   ]
  },
  {
   "cell_type": "code",
   "execution_count": 13,
   "metadata": {},
   "outputs": [
    {
     "data": {
      "image/png": "[encoded data removed]",
      "text/plain": [
       "<Figure size 1000x600 with 1 Axes>"
      ]
     },
     "metadata": {},
     "output_type": "display_data"
    }
   ],
   "source": [
    "import pandas as pd\n",
    "import matplotlib.pyplot as plt\n",
    "import seaborn as sns\n",
    "\n",
    "# Load the CSV file\n",
    "file_path = '../Metrics_Files/MLP_Metrics.csv'  # Replace with your actual file path\n",
    "metrics_df = pd.read_csv(file_path)\n",
    "\n",
    "# Set the metric as the index for better visualization\n",
    "metrics_df.set_index('Metric', inplace=True)\n",
    "\n",
    "# Plotting\n",
    "plt.figure(figsize=(10, 6))\n",
    "colors = sns.color_palette(\"husl\", len(metrics_df))  # Use seaborn's husl palette\n",
    "\n",
    "# Create a bar plot\n",
    "metrics_df['Value'].plot(kind='bar')\n",
    "\n",
    "# Customizing the plot\n",
    "plt.title('Evaluation Metrics for MLP')\n",
    "plt.ylabel('Metric Value')\n",
    "plt.ylim(0.990, 1)  # Set the y-axis limit\n",
    "plt.xticks(rotation=0)\n",
    "plt.grid(axis='y', linestyle='--', alpha=0.7)  # Optional: Add grid for better readability\n",
    "plt.show()"
   ]
  }
 ],
 "metadata": {
  "kernelspec": {
   "display_name": "myEnv",
   "language": "python",
   "name": "python3"
  },
  "language_info": {
   "codemirror_mode": {
    "name": "ipython",
    "version": 3
   },
   "file_extension": ".py",
   "mimetype": "text/x-python",
   "name": "python",
   "nbconvert_exporter": "python",
   "pygments_lexer": "ipython3",
   "version": "3.11.9"
  }
 },
 "nbformat": 4,
 "nbformat_minor": 2
}
